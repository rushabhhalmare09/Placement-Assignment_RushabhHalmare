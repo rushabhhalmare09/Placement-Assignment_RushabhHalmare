{
  "nbformat": 4,
  "nbformat_minor": 0,
  "metadata": {
    "colab": {
      "provenance": []
    },
    "kernelspec": {
      "name": "python3",
      "display_name": "Python 3"
    },
    "language_info": {
      "name": "python"
    }
  },
  "cells": [
    {
      "cell_type": "markdown",
      "source": [
        "Question - 1 \n",
        "Implement 3 different CNN architectures with a comparison table for the MNSIT\n",
        "dataset using the Tensorflow library.\n",
        "Note -\n",
        "1. The model parameters for each architecture should not be more than 8000\n",
        "parameters\n",
        "2. Code comments should be given for proper code understanding.\n",
        "3. The minimum accuracy for each accuracy should be at least 96%\n"
      ],
      "metadata": {
        "id": "om1iWP9Swcqz"
      }
    },
    {
      "cell_type": "code",
      "execution_count": 1,
      "metadata": {
        "id": "bJOvmuZgmxMf"
      },
      "outputs": [],
      "source": [
        "import tensorflow as tf\n",
        "from tensorflow import keras\n",
        "from tensorflow.keras import layers"
      ]
    },
    {
      "cell_type": "code",
      "source": [
        "# Load MNIST dataset\n",
        "(x_train, y_train), (x_test, y_test) = keras.datasets.mnist.load_data()\n",
        "\n",
        "# Preprocess data\n",
        "x_train = x_train.astype(\"float32\") / 255\n",
        "x_test = x_test.astype(\"float32\") / 255\n"
      ],
      "metadata": {
        "id": "fFW3Xlb1m1_I"
      },
      "execution_count": 2,
      "outputs": []
    },
    {
      "cell_type": "code",
      "source": [
        "# Define model architectures\n",
        "\n",
        "#first architecture\n",
        "def create_model_1():\n",
        "    model = keras.Sequential([\n",
        "        layers.Input(shape=(28, 28)),\n",
        "        layers.Reshape(target_shape=(28, 28, 1)),\n",
        "        layers.Conv2D(filters=8, kernel_size=5, activation='relu'),\n",
        "        layers.MaxPooling2D(pool_size=(2, 2)),\n",
        "        layers.Conv2D(filters=16, kernel_size=5, activation='relu'),\n",
        "        layers.MaxPooling2D(pool_size=(2, 2)),\n",
        "        layers.Flatten(),\n",
        "        layers.Dense(units=10, activation='softmax')\n",
        "    ])\n",
        "    return model\n",
        "\n",
        "\n",
        "# Create models\n",
        "model_1 = create_model_1()\n",
        "\n",
        "# Compile models\n",
        "model_1.compile(optimizer='adam', loss='sparse_categorical_crossentropy', metrics=['accuracy'])\n",
        "\n",
        "# Train models\n",
        "model_1.fit(x_train, y_train)\n",
        "\n",
        "# Evaluate models\n",
        "_, acc_1 = model_1.evaluate(x_test, y_test)\n",
        "\n",
        "\n",
        "# Comparison table\n",
        "print(f\"{'Model':<10}{'Accuracy':<10}\")\n",
        "print(f\"{'Model - 1':<10}{acc_1:<10.4f}\")\n",
        "\n",
        "\n",
        "# Check the number of model parameters for each architecture\n",
        "params_1 = model_1.count_params()\n",
        "\n",
        "# Print the number of model parameters for each architecture\n",
        "print(f\"{'Model':<10}{'Parameters':<10}\")\n",
        "print(f\"{'Model 1':<10}{params_1:<10}\")"
      ],
      "metadata": {
        "colab": {
          "base_uri": "https://localhost:8080/"
        },
        "id": "exscwZh4npzE",
        "outputId": "2b2dd24c-76da-4011-af6e-cca4e11fb343"
      },
      "execution_count": 3,
      "outputs": [
        {
          "output_type": "stream",
          "name": "stdout",
          "text": [
            "1875/1875 [==============================] - 33s 17ms/step - loss: 0.2275 - accuracy: 0.9330\n",
            "313/313 [==============================] - 2s 6ms/step - loss: 0.0704 - accuracy: 0.9786\n",
            "Model     Accuracy  \n",
            "Model - 1 0.9786    \n",
            "Model     Parameters\n",
            "Model 1   5994      \n"
          ]
        }
      ]
    },
    {
      "cell_type": "code",
      "source": [
        "# Second architecture\n",
        "def create_model_2():\n",
        "    model = keras.Sequential([\n",
        "        layers.Input(shape=(28, 28)),\n",
        "        layers.Reshape(target_shape=(28, 28, 1)),\n",
        "        layers.Conv2D(filters=8, kernel_size=3, activation='relu'),\n",
        "        layers.MaxPooling2D(pool_size=(2, 2)),\n",
        "        layers.Conv2D(filters=16, kernel_size=3, activation='relu'),\n",
        "        layers.MaxPooling2D(pool_size=(2, 2)),\n",
        "        layers.Flatten(),\n",
        "        layers.Dense(units=10, activation='softmax')\n",
        "    ])\n",
        "    return model\n",
        "\n",
        "\n",
        "# Create models\n",
        "model_2 = create_model_2()\n",
        "\n",
        "# Compile models\n",
        "model_2.compile(optimizer='adam', loss='sparse_categorical_crossentropy', metrics=['accuracy'])\n",
        "\n",
        "# Train models\n",
        "model_2.fit(x_train, y_train)\n",
        "\n",
        "# Evaluate models\n",
        "_, acc_2 = model_2.evaluate(x_test, y_test)\n",
        "\n",
        "# Comparison table\n",
        "print(f\"{'Model':<10}{'Accuracy':<10}\")\n",
        "print(f\"{'Model - 2':<10}{acc_2:<10.4f}\")\n",
        "\n",
        "# Check the number of model parameters for each architecture\n",
        "params_2 = model_2.count_params()\n",
        "\n",
        "# Print the number of model parameters for each architecture\n",
        "print(f\"{'Model':<10}{'Parameters':<10}\")\n",
        "print(f\"{'Model 2':<10}{params_2:<10}\")"
      ],
      "metadata": {
        "colab": {
          "base_uri": "https://localhost:8080/"
        },
        "id": "s04zfeMLm2Br",
        "outputId": "0c4fe681-b84c-468a-a7b3-9ba3f5a2f5a2"
      },
      "execution_count": 4,
      "outputs": [
        {
          "output_type": "stream",
          "name": "stdout",
          "text": [
            "1875/1875 [==============================] - 25s 13ms/step - loss: 0.2774 - accuracy: 0.9181\n",
            "313/313 [==============================] - 2s 5ms/step - loss: 0.1128 - accuracy: 0.9668\n",
            "Model     Accuracy  \n",
            "Model - 2 0.9668    \n",
            "Model     Parameters\n",
            "Model 2   5258      \n"
          ]
        }
      ]
    },
    {
      "cell_type": "code",
      "source": [
        "# Third architecture\n",
        "def create_model_3():\n",
        "    model = keras.Sequential([\n",
        "        layers.Input(shape=(28, 28)),\n",
        "        layers.Reshape(target_shape=(28, 28, 1)),\n",
        "        layers.Conv2D(filters=8, kernel_size=3, activation='relu'),\n",
        "        layers.MaxPooling2D(pool_size=(2, 2)),\n",
        "        layers.Conv2D(filters=16, kernel_size=3, activation='relu'),\n",
        "        layers.MaxPooling2D(pool_size=(2, 2)),\n",
        "        layers.Flatten(),\n",
        "        layers.Dense(units=10, activation='softmax')\n",
        "    ])\n",
        "    return model\n",
        "\n",
        "\n",
        "# Create models\n",
        "model_3 = create_model_3()\n",
        "\n",
        "# Compile models\n",
        "model_3.compile(optimizer='adam', loss='sparse_categorical_crossentropy', metrics=['accuracy'])\n",
        "\n",
        "# Train models\n",
        "model_3.fit(x_train, y_train)\n",
        "\n",
        "# Evaluate models\n",
        "_, acc_3 = model_3.evaluate(x_test, y_test)\n",
        "\n",
        "# Comparison table\n",
        "print(f\"{'Model':<10}{'Accuracy':<10}\")\n",
        "print(f\"{'Model - 3':<10}{acc_3:<10.4f}\")\n",
        "\n",
        "# Check the number of model parameters for each architecture\n",
        "params_3 = model_3.count_params()\n",
        "\n",
        "# Print the number of model parameters for each architecture\n",
        "print(f\"{'Model':<10}{'Parameters':<10}\")\n",
        "print(f\"{'Model 3':<10}{params_3:<10}\")"
      ],
      "metadata": {
        "colab": {
          "base_uri": "https://localhost:8080/"
        },
        "id": "R1XOE0Z4m2ED",
        "outputId": "080526c2-fd32-4abf-90b0-7f271db85f2d"
      },
      "execution_count": 5,
      "outputs": [
        {
          "output_type": "stream",
          "name": "stdout",
          "text": [
            "1875/1875 [==============================] - 27s 14ms/step - loss: 0.2507 - accuracy: 0.9285\n",
            "313/313 [==============================] - 2s 6ms/step - loss: 0.0902 - accuracy: 0.9739\n",
            "Model     Accuracy  \n",
            "Model - 3 0.9739    \n",
            "Model     Parameters\n",
            "Model 3   5258      \n"
          ]
        }
      ]
    },
    {
      "cell_type": "markdown",
      "source": [
        "## So, we can see that all three models have achieved an accuracy of at least 96% on the test data and model parameters do not exceed more than 8000. \n",
        "Model 1 has an accuracy of 97.86%, \n",
        "\n",
        "Model 2 has an accuracy of 96.68% and \n",
        "\n",
        "Model 3 has an accuracy of 97.39%."
      ],
      "metadata": {
        "id": "iugcM1NOppqO"
      }
    },
    {
      "cell_type": "code",
      "source": [],
      "metadata": {
        "id": "uItp0rqMwJH3"
      },
      "execution_count": null,
      "outputs": []
    }
  ]
}