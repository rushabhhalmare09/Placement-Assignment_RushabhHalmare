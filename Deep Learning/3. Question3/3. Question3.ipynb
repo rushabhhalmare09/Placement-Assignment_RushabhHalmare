{
 "cells": [
  {
   "attachments": {},
   "cell_type": "markdown",
   "metadata": {},
   "source": [
    "### Question - 3\n",
    "Train a Pure CNN with less than 10000 trainable parameters using the MNIST\n",
    "Dataset having minimum validation accuracy of 99.40%\n",
    "Note -\n",
    "1. Code comments should be given for proper code understanding.\n",
    "2. Implement in both PyTorch and Tensorflow respectively"
   ]
  },
  {
   "cell_type": "code",
   "execution_count": 7,
   "metadata": {},
   "outputs": [],
   "source": [
    "import torch\n",
    "from torch import nn\n",
    "from torch.utils.data import DataLoader\n",
    "import torchvision"
   ]
  },
  {
   "cell_type": "code",
   "execution_count": 8,
   "metadata": {},
   "outputs": [],
   "source": [
    "\n",
    "# Define the model\n",
    "class CNN(nn.Module):\n",
    "    def __init__(self):\n",
    "        super().__init__()\n",
    "\n",
    "        # Convolutional layers\n",
    "        self.conv1 = nn.Conv2d(1, 32, kernel_size=3, stride=1, padding=1)\n",
    "        self.conv2 = nn.Conv2d(32, 64, kernel_size=3, stride=1, padding=1)\n",
    "\n",
    "        # Max pooling layers\n",
    "        self.maxpool1 = nn.MaxPool2d(kernel_size=2, stride=2)\n",
    "        self.maxpool2 = nn.MaxPool2d(kernel_size=2, stride=2)\n",
    "\n",
    "        # Fully connected layers\n",
    "        self.fc1 = nn.Linear(64 * 7 * 7, 128)\n",
    "        self.fc2 = nn.Linear(128, 10)\n",
    "\n",
    "        # Activation functions\n",
    "        self.relu = nn.ReLU()\n",
    "        self.softmax = nn.Softmax(dim=1)\n",
    "\n",
    "    def forward(self, x):\n",
    "        x = self.conv1(x)\n",
    "        x = self.relu(x)\n",
    "        x = self.maxpool1(x)\n",
    "        x = self.conv2(x)\n",
    "        x = self.relu(x)\n",
    "        x = self.maxpool2(x)\n",
    "        x = x.view(-1, 64 * 7 * 7)\n",
    "        x = self.fc1(x)\n",
    "        x = self.relu(x)\n",
    "        x = self.fc2(x)\n",
    "        x = self.softmax(x)\n",
    "        return x\n",
    "\n"
   ]
  },
  {
   "cell_type": "code",
   "execution_count": 9,
   "metadata": {},
   "outputs": [
    {
     "name": "stdout",
     "output_type": "stream",
     "text": [
      "Downloading http://yann.lecun.com/exdb/mnist/train-images-idx3-ubyte.gz\n",
      "Downloading http://yann.lecun.com/exdb/mnist/train-images-idx3-ubyte.gz to ./data/MNIST/raw/train-images-idx3-ubyte.gz\n"
     ]
    },
    {
     "name": "stderr",
     "output_type": "stream",
     "text": [
      "100%|██████████| 9912422/9912422 [00:00<00:00, 19454356.74it/s]\n"
     ]
    },
    {
     "name": "stdout",
     "output_type": "stream",
     "text": [
      "Extracting ./data/MNIST/raw/train-images-idx3-ubyte.gz to ./data/MNIST/raw\n",
      "\n",
      "Downloading http://yann.lecun.com/exdb/mnist/train-labels-idx1-ubyte.gz\n",
      "Downloading http://yann.lecun.com/exdb/mnist/train-labels-idx1-ubyte.gz to ./data/MNIST/raw/train-labels-idx1-ubyte.gz\n"
     ]
    },
    {
     "name": "stderr",
     "output_type": "stream",
     "text": [
      "100%|██████████| 28881/28881 [00:00<00:00, 131668.66it/s]\n"
     ]
    },
    {
     "name": "stdout",
     "output_type": "stream",
     "text": [
      "Extracting ./data/MNIST/raw/train-labels-idx1-ubyte.gz to ./data/MNIST/raw\n",
      "\n",
      "Downloading http://yann.lecun.com/exdb/mnist/t10k-images-idx3-ubyte.gz\n",
      "Downloading http://yann.lecun.com/exdb/mnist/t10k-images-idx3-ubyte.gz to ./data/MNIST/raw/t10k-images-idx3-ubyte.gz\n"
     ]
    },
    {
     "name": "stderr",
     "output_type": "stream",
     "text": [
      "100%|██████████| 1648877/1648877 [00:00<00:00, 28888193.90it/s]\n"
     ]
    },
    {
     "name": "stdout",
     "output_type": "stream",
     "text": [
      "Extracting ./data/MNIST/raw/t10k-images-idx3-ubyte.gz to ./data/MNIST/raw\n",
      "\n",
      "Downloading http://yann.lecun.com/exdb/mnist/t10k-labels-idx1-ubyte.gz\n",
      "Downloading http://yann.lecun.com/exdb/mnist/t10k-labels-idx1-ubyte.gz to ./data/MNIST/raw/t10k-labels-idx1-ubyte.gz\n"
     ]
    },
    {
     "name": "stderr",
     "output_type": "stream",
     "text": [
      "100%|██████████| 4542/4542 [00:00<00:00, 15551452.06it/s]\n"
     ]
    },
    {
     "name": "stdout",
     "output_type": "stream",
     "text": [
      "Extracting ./data/MNIST/raw/t10k-labels-idx1-ubyte.gz to ./data/MNIST/raw\n",
      "\n",
      "Epoch: 1 Batch: 1 Loss: 2.3030\n",
      "Epoch: 1 Batch: 101 Loss: 1.5851\n",
      "Epoch: 1 Batch: 201 Loss: 1.6417\n",
      "Epoch: 1 Batch: 301 Loss: 1.5298\n",
      "Epoch: 1 Batch: 401 Loss: 1.5435\n",
      "Epoch: 1 Batch: 501 Loss: 1.5704\n",
      "Epoch: 1 Batch: 601 Loss: 1.5114\n",
      "Epoch: 1 Batch: 701 Loss: 1.5218\n",
      "Epoch: 1 Batch: 801 Loss: 1.5150\n",
      "Epoch: 1 Batch: 901 Loss: 1.4924\n",
      "Epoch: 2 Batch: 1 Loss: 1.4879\n",
      "Epoch: 2 Batch: 101 Loss: 1.5327\n",
      "Epoch: 2 Batch: 201 Loss: 1.4822\n",
      "Epoch: 2 Batch: 301 Loss: 1.5019\n",
      "Epoch: 2 Batch: 401 Loss: 1.4713\n",
      "Epoch: 2 Batch: 501 Loss: 1.4635\n",
      "Epoch: 2 Batch: 601 Loss: 1.4920\n",
      "Epoch: 2 Batch: 701 Loss: 1.5220\n",
      "Epoch: 2 Batch: 801 Loss: 1.4826\n",
      "Epoch: 2 Batch: 901 Loss: 1.4663\n",
      "Epoch: 3 Batch: 1 Loss: 1.4615\n",
      "Epoch: 3 Batch: 101 Loss: 1.4616\n",
      "Epoch: 3 Batch: 201 Loss: 1.4963\n",
      "Epoch: 3 Batch: 301 Loss: 1.4910\n",
      "Epoch: 3 Batch: 401 Loss: 1.4623\n",
      "Epoch: 3 Batch: 501 Loss: 1.4833\n",
      "Epoch: 3 Batch: 601 Loss: 1.4702\n",
      "Epoch: 3 Batch: 701 Loss: 1.4780\n",
      "Epoch: 3 Batch: 801 Loss: 1.4767\n",
      "Epoch: 3 Batch: 901 Loss: 1.4745\n",
      "Epoch: 4 Batch: 1 Loss: 1.4782\n",
      "Epoch: 4 Batch: 101 Loss: 1.4615\n",
      "Epoch: 4 Batch: 201 Loss: 1.4769\n",
      "Epoch: 4 Batch: 301 Loss: 1.4613\n",
      "Epoch: 4 Batch: 401 Loss: 1.4764\n",
      "Epoch: 4 Batch: 501 Loss: 1.4647\n",
      "Epoch: 4 Batch: 601 Loss: 1.5011\n",
      "Epoch: 4 Batch: 701 Loss: 1.4615\n",
      "Epoch: 4 Batch: 801 Loss: 1.4728\n",
      "Epoch: 4 Batch: 901 Loss: 1.4617\n",
      "Epoch: 5 Batch: 1 Loss: 1.4900\n",
      "Epoch: 5 Batch: 101 Loss: 1.4667\n",
      "Epoch: 5 Batch: 201 Loss: 1.5182\n",
      "Epoch: 5 Batch: 301 Loss: 1.4695\n",
      "Epoch: 5 Batch: 401 Loss: 1.4642\n",
      "Epoch: 5 Batch: 501 Loss: 1.4936\n",
      "Epoch: 5 Batch: 601 Loss: 1.4618\n",
      "Epoch: 5 Batch: 701 Loss: 1.4664\n",
      "Epoch: 5 Batch: 801 Loss: 1.4627\n",
      "Epoch: 5 Batch: 901 Loss: 1.4812\n",
      "Epoch: 6 Batch: 1 Loss: 1.4748\n",
      "Epoch: 6 Batch: 101 Loss: 1.4904\n",
      "Epoch: 6 Batch: 201 Loss: 1.4729\n",
      "Epoch: 6 Batch: 301 Loss: 1.4612\n",
      "Epoch: 6 Batch: 401 Loss: 1.4646\n",
      "Epoch: 6 Batch: 501 Loss: 1.4612\n",
      "Epoch: 6 Batch: 601 Loss: 1.4985\n",
      "Epoch: 6 Batch: 701 Loss: 1.4622\n",
      "Epoch: 6 Batch: 801 Loss: 1.4612\n",
      "Epoch: 6 Batch: 901 Loss: 1.4612\n",
      "Epoch: 7 Batch: 1 Loss: 1.4936\n",
      "Epoch: 7 Batch: 101 Loss: 1.4612\n",
      "Epoch: 7 Batch: 201 Loss: 1.4687\n",
      "Epoch: 7 Batch: 301 Loss: 1.4639\n",
      "Epoch: 7 Batch: 401 Loss: 1.4923\n",
      "Epoch: 7 Batch: 501 Loss: 1.5127\n",
      "Epoch: 7 Batch: 601 Loss: 1.4612\n",
      "Epoch: 7 Batch: 701 Loss: 1.4612\n",
      "Epoch: 7 Batch: 801 Loss: 1.4767\n",
      "Epoch: 7 Batch: 901 Loss: 1.4744\n",
      "Epoch: 8 Batch: 1 Loss: 1.4767\n",
      "Epoch: 8 Batch: 101 Loss: 1.4612\n",
      "Epoch: 8 Batch: 201 Loss: 1.4634\n",
      "Epoch: 8 Batch: 301 Loss: 1.4618\n",
      "Epoch: 8 Batch: 401 Loss: 1.4612\n",
      "Epoch: 8 Batch: 501 Loss: 1.4612\n",
      "Epoch: 8 Batch: 601 Loss: 1.4624\n",
      "Epoch: 8 Batch: 701 Loss: 1.4928\n",
      "Epoch: 8 Batch: 801 Loss: 1.4612\n",
      "Epoch: 8 Batch: 901 Loss: 1.4612\n",
      "Epoch: 9 Batch: 1 Loss: 1.4613\n",
      "Epoch: 9 Batch: 101 Loss: 1.4741\n",
      "Epoch: 9 Batch: 201 Loss: 1.4686\n",
      "Epoch: 9 Batch: 301 Loss: 1.4612\n",
      "Epoch: 9 Batch: 401 Loss: 1.4659\n",
      "Epoch: 9 Batch: 501 Loss: 1.4707\n",
      "Epoch: 9 Batch: 601 Loss: 1.4776\n",
      "Epoch: 9 Batch: 701 Loss: 1.4770\n",
      "Epoch: 9 Batch: 801 Loss: 1.4747\n",
      "Epoch: 9 Batch: 901 Loss: 1.4769\n",
      "Epoch: 10 Batch: 1 Loss: 1.4768\n",
      "Epoch: 10 Batch: 101 Loss: 1.4612\n",
      "Epoch: 10 Batch: 201 Loss: 1.4810\n",
      "Epoch: 10 Batch: 301 Loss: 1.4779\n",
      "Epoch: 10 Batch: 401 Loss: 1.4612\n",
      "Epoch: 10 Batch: 501 Loss: 1.4612\n",
      "Epoch: 10 Batch: 601 Loss: 1.4781\n",
      "Epoch: 10 Batch: 701 Loss: 1.4612\n",
      "Epoch: 10 Batch: 801 Loss: 1.4768\n",
      "Epoch: 10 Batch: 901 Loss: 1.4612\n",
      "Test Loss: 0.0232 Test Accuracy: 98.17%\n"
     ]
    }
   ],
   "source": [
    "# Load the MNIST dataset\n",
    "train_dataset = torchvision.datasets.MNIST(root='./data', train=True, download=True, transform=torchvision.transforms.ToTensor())\n",
    "test_dataset = torchvision.datasets.MNIST(root='./data', train=False, download=True, transform=torchvision.transforms.ToTensor())\n",
    "\n",
    "# Create the data loaders\n",
    "train_loader = DataLoader(train_dataset, batch_size=64, shuffle=True)\n",
    "test_loader = DataLoader(test_dataset, batch_size=64, shuffle=False)\n",
    "\n",
    "# Create the model\n",
    "model = CNN()\n",
    "\n",
    "# Compile the model\n",
    "optimizer = torch.optim.Adam(model.parameters(), lr=0.001)\n",
    "loss_fn = nn.CrossEntropyLoss()\n",
    "\n",
    "# Train the model\n",
    "for epoch in range(10):\n",
    "    for batch_idx, (images, labels) in enumerate(train_loader):\n",
    "        # Forward pass\n",
    "        outputs = model(images)\n",
    "\n",
    "        # Calculate the loss\n",
    "        loss = loss_fn(outputs, labels)\n",
    "\n",
    "        # Backpropagate the loss\n",
    "        optimizer.zero_grad()\n",
    "        loss.backward()\n",
    "        optimizer.step()\n",
    "\n",
    "        # Print the loss\n",
    "        if batch_idx % 100 == 0:\n",
    "            print('Epoch: {} Batch: {} Loss: {:.4f}'.format(epoch + 1, batch_idx + 1, loss.item()))\n",
    "\n",
    "# Evaluate the model\n",
    "test_loss = 0.0\n",
    "test_correct = 0\n",
    "\n",
    "with torch.no_grad():\n",
    "    for images, labels in test_loader:\n",
    "        outputs = model(images)\n",
    "        _, predicted = torch.max(outputs.data, 1)\n",
    "        test_loss += loss_fn(outputs, labels).item()\n",
    "        test_correct += (predicted == labels).sum().item()\n",
    "\n",
    "test_loss /= len(test_loader.dataset)\n",
    "test_accuracy = 100.0 * test_correct / len(test_loader.dataset)\n",
    "\n",
    "print('Test Loss: {:.4f} Test Accuracy: {:.2f}%'.format(test_loss, test_accuracy))\n"
   ]
  }
 ],
 "metadata": {
  "kernelspec": {
   "display_name": "Python 3",
   "language": "python",
   "name": "python3"
  },
  "language_info": {
   "codemirror_mode": {
    "name": "ipython",
    "version": 3
   },
   "file_extension": ".py",
   "mimetype": "text/x-python",
   "name": "python",
   "nbconvert_exporter": "python",
   "pygments_lexer": "ipython3",
   "version": "3.10.2"
  },
  "orig_nbformat": 4
 },
 "nbformat": 4,
 "nbformat_minor": 2
}
