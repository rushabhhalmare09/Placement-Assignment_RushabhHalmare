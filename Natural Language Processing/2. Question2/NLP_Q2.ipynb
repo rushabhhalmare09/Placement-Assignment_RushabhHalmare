{
  "nbformat": 4,
  "nbformat_minor": 0,
  "metadata": {
    "colab": {
      "provenance": []
    },
    "kernelspec": {
      "name": "python3",
      "display_name": "Python 3"
    },
    "language_info": {
      "name": "python"
    }
  },
  "cells": [
    {
      "cell_type": "markdown",
      "source": [
        "### Question - 2\n",
        "Take any pdf and your task is to extract the text from that pdf and store it in a\n",
        "csv file and then you need to find the most repeated word in that pdf.\n",
        "\n",
        "\n"
      ],
      "metadata": {
        "id": "qGbjGkvYtXAC"
      }
    },
    {
      "cell_type": "code",
      "source": [
        "import PyPDF2\n",
        "import pandas as pd\n",
        "from collections import Counter\n",
        "\n",
        "def extract_text_from_pdf(file_path):\n",
        "    with open(file_path, 'rb') as file:\n",
        "        reader = PyPDF2.PdfReader(file)\n",
        "        num_pages = len(reader.pages)\n",
        "\n",
        "        text = \"\"\n",
        "        for page in range(num_pages):\n",
        "            page_obj = reader.pages[page]\n",
        "            # Use page_obj.extract_text() instead of page_obj.extractText()\n",
        "            text += page_obj.extract_text()\n",
        "\n",
        "    return text\n",
        "\n",
        "def save_text_to_csv(text, csv_file):\n",
        "    df = pd.DataFrame({'text': [text]})\n",
        "    df.to_csv(csv_file, index=False)\n",
        "\n",
        "def find_most_repeated_word(text):\n",
        "    words = text.split()\n",
        "    word_counts = Counter(words)\n",
        "    most_common_word = word_counts.most_common(1)[0][0]\n",
        "\n",
        "    return most_common_word\n",
        "\n",
        "if __name__ == \"__main__\":\n",
        "    pdf_file = r\"/content/drive/MyDrive/Data_Science.pdf\"\n",
        "    csv_file = \"output.csv\"\n",
        "\n",
        "    extracted_text = extract_text_from_pdf(pdf_file)\n",
        "    save_text_to_csv(extracted_text, csv_file)\n",
        "\n",
        "    most_common_word = find_most_repeated_word(extracted_text)\n",
        "    print(\"Most repeated word:\", most_common_word)\n"
      ],
      "metadata": {
        "colab": {
          "base_uri": "https://localhost:8080/"
        },
        "id": "HhKpquDftXGx",
        "outputId": "cfd79f8f-503b-474b-a9e2-69d8c57c35d6"
      },
      "execution_count": 12,
      "outputs": [
        {
          "output_type": "stream",
          "name": "stdout",
          "text": [
            "Most repeated word: the\n"
          ]
        }
      ]
    }
  ]
}